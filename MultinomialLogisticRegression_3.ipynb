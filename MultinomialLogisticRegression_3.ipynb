{
 "cells": [
  {
   "cell_type": "code",
   "execution_count": 6,
   "metadata": {},
   "outputs": [
    {
     "name": "stderr",
     "output_type": "stream",
     "text": [
      "<ipython-input-6-2c5bd7189eed>:13: SettingWithCopyWarning: \n",
      "A value is trying to be set on a copy of a slice from a DataFrame.\n",
      "Try using .loc[row_indexer,col_indexer] = value instead\n",
      "\n",
      "See the caveats in the documentation: https://pandas.pydata.org/pandas-docs/stable/user_guide/indexing.html#returning-a-view-versus-a-copy\n",
      "  X[[col_list[0]]] = scale.fit_transform(X[[col_list[0]]].values)\n",
      "C:\\ProgramData\\Anaconda3\\lib\\site-packages\\pandas\\core\\indexing.py:1736: SettingWithCopyWarning: \n",
      "A value is trying to be set on a copy of a slice from a DataFrame.\n",
      "Try using .loc[row_indexer,col_indexer] = value instead\n",
      "\n",
      "See the caveats in the documentation: https://pandas.pydata.org/pandas-docs/stable/user_guide/indexing.html#returning-a-view-versus-a-copy\n",
      "  isetter(loc, value[:, i].tolist())\n"
     ]
    },
    {
     "name": "stdout",
     "output_type": "stream",
     "text": [
      "        Humidity9am\n",
      "0         -3.613588\n",
      "1         -3.561101\n",
      "2         -3.561101\n",
      "3         -3.561101\n",
      "4         -3.561101\n",
      "...             ...\n",
      "140640     1.635111\n",
      "140641     1.635111\n",
      "140642     1.635111\n",
      "140643     1.635111\n",
      "140644     1.635111\n",
      "\n",
      "[140645 rows x 1 columns]\n",
      "Logistic Regression model accuracy(in %): 77.11969853176437\n"
     ]
    }
   ],
   "source": [
    "from sklearn import datasets, linear_model, metrics\n",
    "import pandas as pd\n",
    "import statsmodels.api as sm\n",
    "from sklearn.preprocessing import StandardScaler\n",
    "scale = StandardScaler()\n",
    "\n",
    "col_list = [\"Humidity9am\", \"RainToday\"]\n",
    "df = pd.read_csv(\"C:\\machineLearning\\MultinomialLogisticRegression3\\weatherAUS_3.csv\", usecols=col_list)\n",
    "\n",
    "X = df[[col_list[0]]]\n",
    "y = df[col_list[1]]\n",
    "\n",
    "X[[col_list[0]]] = scale.fit_transform(X[[col_list[0]]].values)\n",
    "\n",
    "print (X)\n",
    "\n",
    "# splitting X and y into training and testing sets \n",
    "from sklearn.model_selection import train_test_split \n",
    "X_train, X_test, y_train, y_test = train_test_split(X, y, test_size=0.4,random_state=1) \n",
    "\n",
    "# create logistic regression object \n",
    "reg = linear_model.LogisticRegression() \n",
    "\n",
    "# train the model using the training sets \n",
    "reg.fit(X_train, y_train) \n",
    "\n",
    "# making predictions on the testing set \n",
    "y_pred = reg.predict(X_test) \n",
    "\n",
    "# comparing actual response values (y_test) with predicted response values (y_pred) \n",
    "print(\"Logistic Regression model accuracy(in %):\", \n",
    "metrics.accuracy_score(y_test, y_pred)*100)"
   ]
  },
  {
   "cell_type": "code",
   "execution_count": null,
   "metadata": {},
   "outputs": [],
   "source": []
  },
  {
   "cell_type": "code",
   "execution_count": null,
   "metadata": {},
   "outputs": [],
   "source": []
  }
 ],
 "metadata": {
  "kernelspec": {
   "display_name": "Python 3",
   "language": "python",
   "name": "python3"
  },
  "language_info": {
   "codemirror_mode": {
    "name": "ipython",
    "version": 3
   },
   "file_extension": ".py",
   "mimetype": "text/x-python",
   "name": "python",
   "nbconvert_exporter": "python",
   "pygments_lexer": "ipython3",
   "version": "3.8.5"
  }
 },
 "nbformat": 4,
 "nbformat_minor": 4
}
